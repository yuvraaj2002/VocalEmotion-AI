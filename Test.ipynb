{
 "cells": [
  {
   "cell_type": "code",
   "execution_count": 3,
   "metadata": {},
   "outputs": [],
   "source": [
    "import pandas as pd\n",
    "import numpy as np\n",
    "from rich import print\n",
    "import os"
   ]
  },
  {
   "cell_type": "code",
   "execution_count": 27,
   "metadata": {},
   "outputs": [
    {
     "data": {
      "text/html": [
       "<pre style=\"white-space:pre;overflow-x:auto;line-height:normal;font-family:Menlo,'DejaVu Sans Mono',consolas,'Courier New',monospace\">All files have correct naming format\n",
       "</pre>\n"
      ],
      "text/plain": [
       "All files have correct naming format\n"
      ]
     },
     "metadata": {},
     "output_type": "display_data"
    }
   ],
   "source": [
    "# Initialize count of files with correct naming format\n",
    "count = 0\n",
    "root_dir = os.path.dirname(\"Audio_Files/\")\n",
    "\n",
    "# Check each file in the directory\n",
    "for file in os.listdir(root_dir):\n",
    "    file_path = os.path.join(root_dir, file)\n",
    "    if os.path.exists(file_path):\n",
    "        # Check if file name has correct format (4 parts separated by '_')\n",
    "        if len(file.split('_')) != 4:\n",
    "            print(file)  # Print file name if format is incorrect\n",
    "        else:\n",
    "            count += 1\n",
    "\n",
    "# Printing result\n",
    "if count != 7442:\n",
    "    print(\"Some files have wrong naming format\")\n",
    "else:\n",
    "    print(\"All files have correct naming format\")\n"
   ]
  },
  {
   "cell_type": "code",
   "execution_count": 14,
   "metadata": {},
   "outputs": [
    {
     "data": {
      "text/html": [
       "<pre style=\"white-space:pre;overflow-x:auto;line-height:normal;font-family:Menlo,'DejaVu Sans Mono',consolas,'Courier New',monospace\"><span style=\"font-weight: bold\">[</span><span style=\"color: #008000; text-decoration-color: #008000\">'.git'</span>, <span style=\"color: #008000; text-decoration-color: #008000\">'.gitignore'</span>, <span style=\"color: #008000; text-decoration-color: #008000\">'.venv'</span>, <span style=\"color: #008000; text-decoration-color: #008000\">'Audio_Files'</span>, <span style=\"color: #008000; text-decoration-color: #008000\">'Main.ipynb'</span>, <span style=\"color: #008000; text-decoration-color: #008000\">'README.md'</span>, <span style=\"color: #008000; text-decoration-color: #008000\">'Test.ipynb'</span><span style=\"font-weight: bold\">]</span>\n",
       "</pre>\n"
      ],
      "text/plain": [
       "\u001b[1m[\u001b[0m\u001b[32m'.git'\u001b[0m, \u001b[32m'.gitignore'\u001b[0m, \u001b[32m'.venv'\u001b[0m, \u001b[32m'Audio_Files'\u001b[0m, \u001b[32m'Main.ipynb'\u001b[0m, \u001b[32m'README.md'\u001b[0m, \u001b[32m'Test.ipynb'\u001b[0m\u001b[1m]\u001b[0m\n"
      ]
     },
     "metadata": {},
     "output_type": "display_data"
    }
   ],
   "source": [
    "print(os.listdir(root_dir))"
   ]
  },
  {
   "cell_type": "code",
   "execution_count": 10,
   "metadata": {},
   "outputs": [
    {
     "data": {
      "text/html": [
       "<pre style=\"white-space:pre;overflow-x:auto;line-height:normal;font-family:Menlo,'DejaVu Sans Mono',consolas,'Courier New',monospace\"><span style=\"font-weight: bold\">[</span><span style=\"color: #008000; text-decoration-color: #008000\">'1091'</span>, <span style=\"color: #008000; text-decoration-color: #008000\">'IWL'</span>, <span style=\"color: #008000; text-decoration-color: #008000\">'SAD'</span>, <span style=\"color: #008000; text-decoration-color: #008000\">'XX.wav'</span><span style=\"font-weight: bold\">]</span>\n",
       "</pre>\n"
      ],
      "text/plain": [
       "\u001b[1m[\u001b[0m\u001b[32m'1091'\u001b[0m, \u001b[32m'IWL'\u001b[0m, \u001b[32m'SAD'\u001b[0m, \u001b[32m'XX.wav'\u001b[0m\u001b[1m]\u001b[0m\n"
      ]
     },
     "metadata": {},
     "output_type": "display_data"
    }
   ],
   "source": [
    "temp = '1091_IWL_SAD_XX.wav'\n",
    "print(temp.split('_'))"
   ]
  },
  {
   "cell_type": "code",
   "execution_count": null,
   "metadata": {},
   "outputs": [],
   "source": []
  }
 ],
 "metadata": {
  "kernelspec": {
   "display_name": ".venv",
   "language": "python",
   "name": "python3"
  },
  "language_info": {
   "codemirror_mode": {
    "name": "ipython",
    "version": 3
   },
   "file_extension": ".py",
   "mimetype": "text/x-python",
   "name": "python",
   "nbconvert_exporter": "python",
   "pygments_lexer": "ipython3",
   "version": "3.12.6"
  }
 },
 "nbformat": 4,
 "nbformat_minor": 2
}
